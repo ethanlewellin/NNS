{
 "cells": [
  {
   "cell_type": "code",
   "execution_count": 3,
   "metadata": {},
   "outputs": [],
   "source": [
    "import numpy as np\n",
    "import matplotlib.pyplot\n",
    "import nnfs\n",
    "from nnfs.datasets import spiral_data\n",
    "from NNS import NeuralNetwork as NN #import neural net code from github to reduce copy/pasting"
   ]
  },
  {
   "cell_type": "markdown",
   "metadata": {},
   "source": [
    "# Chapter 10"
   ]
  },
  {
   "cell_type": "markdown",
   "metadata": {},
   "source": [
    "## Optimizers"
   ]
  },
  {
   "cell_type": "markdown",
   "metadata": {},
   "source": [
    "### Stochastic Gradient Descent (SGD)"
   ]
  },
  {
   "cell_type": "code",
   "execution_count": 5,
   "metadata": {},
   "outputs": [
    {
     "ename": "AttributeError",
     "evalue": "module 'NNS.NeuralNetwork' has no attribute 'Activation_Softmax_Loss_CategoricalCrossentropy'",
     "output_type": "error",
     "traceback": [
      "\u001b[1;31m---------------------------------------------------------------------------\u001b[0m",
      "\u001b[1;31mAttributeError\u001b[0m                            Traceback (most recent call last)",
      "Cell \u001b[1;32mIn[5], line 18\u001b[0m\n\u001b[0;32m     16\u001b[0m activation1 \u001b[38;5;241m=\u001b[39m NN\u001b[38;5;241m.\u001b[39mActivation_ReLU()\n\u001b[0;32m     17\u001b[0m dense2 \u001b[38;5;241m=\u001b[39m NN\u001b[38;5;241m.\u001b[39mLayer_Dense(\u001b[38;5;241m64\u001b[39m,\u001b[38;5;241m3\u001b[39m)\n\u001b[1;32m---> 18\u001b[0m loss_activation \u001b[38;5;241m=\u001b[39m \u001b[43mNN\u001b[49m\u001b[38;5;241;43m.\u001b[39;49m\u001b[43mActivation_Softmax_Loss_CategoricalCrossentropy\u001b[49m()\n\u001b[0;32m     19\u001b[0m optimzer \u001b[38;5;241m=\u001b[39m Optimizer_SGD()\n\u001b[0;32m     21\u001b[0m dense1\u001b[38;5;241m.\u001b[39mforward(X)\n",
      "\u001b[1;31mAttributeError\u001b[0m: module 'NNS.NeuralNetwork' has no attribute 'Activation_Softmax_Loss_CategoricalCrossentropy'"
     ]
    }
   ],
   "source": [
    "class Optimizer_SGD:\n",
    "    \n",
    "    # Initialize optimizer - set settings,\n",
    "    # learning rate of 1.0 is set as a defaults\n",
    "    def __init__(self, learning_rate=1.0):\n",
    "        self.learning_rate = learning_rate\n",
    "    \n",
    "    # Update Parameters\n",
    "    def update_params(self, layer):\n",
    "        layer.weights += -self.learning_rate * layer.dweights\n",
    "        layer.biases += -self.learning_rate * layer.dbiases\n",
    "\n",
    "X, y = spiral_data(samples=100, classes=3)\n",
    "\n",
    "dense1 = NN.Layer_Dense(2,64)\n",
    "activation1 = NN.Activation_ReLU()\n",
    "dense2 = NN.Layer_Dense(64,3)\n",
    "loss_activation = NN.Activation_Softmax_Loss_CategoricalCrossentropy()\n",
    "optimzer = Optimizer_SGD()\n",
    "\n",
    "dense1.forward(X)\n",
    "activation1.forward(X)\n",
    "dense2.forward(activation1.output)\n",
    "loss = loss_activation.forward(dense2.output,y)\n",
    "\n",
    "print('loss: ', loss)\n",
    "\n"
   ]
  }
 ],
 "metadata": {
  "kernelspec": {
   "display_name": "Python 3",
   "language": "python",
   "name": "python3"
  },
  "language_info": {
   "codemirror_mode": {
    "name": "ipython",
    "version": 3
   },
   "file_extension": ".py",
   "mimetype": "text/x-python",
   "name": "python",
   "nbconvert_exporter": "python",
   "pygments_lexer": "ipython3",
   "version": "3.12.1"
  }
 },
 "nbformat": 4,
 "nbformat_minor": 2
}
