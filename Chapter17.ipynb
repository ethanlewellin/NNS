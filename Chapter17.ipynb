{
 "cells": [
  {
   "cell_type": "code",
   "execution_count": 1,
   "metadata": {},
   "outputs": [],
   "source": [
    "import numpy as np\n",
    "import matplotlib.pyplot as plt\n",
    "from matplotlib.colors import ListedColormap\n",
    "import nnfs\n",
    "from nnfs.datasets import sine_data\n",
    "import random\n",
    "import requests\n",
    "from NNS import NeuralNetwork as NN #import neural net code from github to reduce copy/pasting\n",
    "from tqdm import tqdm\n",
    "from sklearn.neighbors import KNeighborsClassifier"
   ]
  },
  {
   "cell_type": "markdown",
   "metadata": {},
   "source": [
    "# Regression"
   ]
  },
  {
   "cell_type": "code",
   "execution_count": null,
   "metadata": {},
   "outputs": [
    {
     "data": {
      "image/png": "[encoded data removed]",
      "text/plain": [
       "<Figure size 640x480 with 1 Axes>"
      ]
     },
     "metadata": {},
     "output_type": "display_data"
    }
   ],
   "source": [
    "# This is the way we will be working with\n",
    "X, y = sine_data()\n",
    "plt.plot(X,y)\n",
    "plt.show()"
   ]
  },
  {
   "cell_type": "markdown",
   "metadata": {},
   "source": [
    "## Linear Activation Function"
   ]
  },
  {
   "cell_type": "code",
   "execution_count": 7,
   "metadata": {},
   "outputs": [],
   "source": [
    "class Activation_Linear:\n",
    "    \n",
    "    # Forward pass\n",
    "    def forward(self, inputs):\n",
    "        # Just remember values\n",
    "        self.inputs = inputs\n",
    "        self.output = inputs\n",
    "        \n",
    "    # Backward Pass\n",
    "    def backward(self, dvalues):\n",
    "        # deriviative of linear function is 1\n",
    "        self.dinputs = dvalues.copy()"
   ]
  },
  {
   "cell_type": "markdown",
   "metadata": {},
   "source": [
    "## Mean Squared loss and Mean Absolute Error Loss"
   ]
  },
  {
   "cell_type": "code",
   "execution_count": null,
   "metadata": {},
   "outputs": [],
   "source": [
    "Loss = NN.Loss()\n",
    "    \n",
    "# Mean Squared Error Loss\n",
    "class Loss_MeanSquaredError(Loss): # L2 loss\n",
    "    \n",
    "    # Forward Pass\n",
    "    def forward(self, y_pred, y_true):\n",
    "        \n",
    "        # Calculate loss\n",
    "        sample_losses = np.mean((y_true - y_pred)**2, axis=-1)\n",
    "        return sample_losses\n",
    "    \n",
    "    def backward(self, dvalues, y_true):\n",
    "        \n",
    "        # Number of Samples\n",
    "        samples = len(dvalues)\n",
    "        outputs = len(dvalues[0])\n",
    "        \n",
    "        #Gradient on values\n",
    "        self.dinputs = -2 * (y_true - dvalues) / outputs\n",
    "        # Normalize Gradient\n",
    "        self.dinputs = self.dinputs / samples\n",
    "        \n",
    "class Loss_MeanAbsoluteError(Loss): # L1 loss\n",
    "    \n",
    "    # Forward Pass\n",
    "    def forward(self, y_pred, y_true):\n",
    "        \n",
    "        # Calculate loss\n",
    "        sample_losses = np.mean(np.abs(y_true - y_pred), axis = -1)\n",
    "        \n",
    "        # Return losses\n",
    "        return sample_losses\n",
    "    \n",
    "    # Backward pass\n",
    "    def backward(self, dvalues, y_true):\n",
    "        \n",
    "        # Number of samples\n",
    "        samples = len(dvalues)\n",
    "        outputs = len(dvalues[0])\n",
    "        \n",
    "        # Calculate Gradient\n",
    "        self.dinputs = np.sign(y_true - dvalues) / outputs\n",
    "        # Normalize Gradient\n",
    "        self.dinputs = self.dinputs / samples"
   ]
  },
  {
   "cell_type": "code",
   "execution_count": 8,
   "metadata": {},
   "outputs": [
    {
     "name": "stderr",
     "output_type": "stream",
     "text": [
      "  1%|          | 124/10001 [00:00<00:15, 624.44it/s]"
     ]
    },
    {
     "name": "stdout",
     "output_type": "stream",
     "text": [
      "epoch: 0, acc: 0.002 , loss: 0.500 (data_loss: 0.500, reg_loss: 0.000), lr: 0.001, \n"
     ]
    },
    {
     "name": "stderr",
     "output_type": "stream",
     "text": [
      " 11%|█▏        | 1133/10001 [00:01<00:13, 664.98it/s]"
     ]
    },
    {
     "name": "stdout",
     "output_type": "stream",
     "text": [
      "epoch: 1000, acc: 0.003 , loss: 0.149 (data_loss: 0.149, reg_loss: 0.000), lr: 0.001, \n"
     ]
    },
    {
     "name": "stderr",
     "output_type": "stream",
     "text": [
      " 21%|██        | 2072/10001 [00:03<00:11, 710.32it/s]"
     ]
    },
    {
     "name": "stdout",
     "output_type": "stream",
     "text": [
      "epoch: 2000, acc: 0.004 , loss: 0.139 (data_loss: 0.139, reg_loss: 0.000), lr: 0.001, \n"
     ]
    },
    {
     "name": "stderr",
     "output_type": "stream",
     "text": [
      " 31%|███▏      | 3134/10001 [00:04<00:09, 708.67it/s]"
     ]
    },
    {
     "name": "stdout",
     "output_type": "stream",
     "text": [
      "epoch: 3000, acc: 0.004 , loss: 0.078 (data_loss: 0.078, reg_loss: 0.000), lr: 0.001, \n"
     ]
    },
    {
     "name": "stderr",
     "output_type": "stream",
     "text": [
      " 41%|████      | 4116/10001 [00:06<00:08, 708.85it/s]"
     ]
    },
    {
     "name": "stdout",
     "output_type": "stream",
     "text": [
      "epoch: 4000, acc: 0.016 , loss: 0.039 (data_loss: 0.039, reg_loss: 0.000), lr: 0.001, \n"
     ]
    },
    {
     "name": "stderr",
     "output_type": "stream",
     "text": [
      " 51%|█████     | 5094/10001 [00:08<00:09, 509.88it/s]"
     ]
    },
    {
     "name": "stdout",
     "output_type": "stream",
     "text": [
      "epoch: 5000, acc: 0.103 , loss: 0.022 (data_loss: 0.022, reg_loss: 0.000), lr: 0.001, \n"
     ]
    },
    {
     "name": "stderr",
     "output_type": "stream",
     "text": [
      " 61%|██████    | 6075/10001 [00:09<00:07, 539.34it/s]"
     ]
    },
    {
     "name": "stdout",
     "output_type": "stream",
     "text": [
      "epoch: 6000, acc: 0.157 , loss: 0.013 (data_loss: 0.013, reg_loss: 0.000), lr: 0.001, \n"
     ]
    },
    {
     "name": "stderr",
     "output_type": "stream",
     "text": [
      " 71%|███████   | 7082/10001 [00:11<00:05, 554.33it/s]"
     ]
    },
    {
     "name": "stdout",
     "output_type": "stream",
     "text": [
      "epoch: 7000, acc: 0.201 , loss: 0.008 (data_loss: 0.008, reg_loss: 0.000), lr: 0.001, \n"
     ]
    },
    {
     "name": "stderr",
     "output_type": "stream",
     "text": [
      " 81%|████████  | 8061/10001 [00:13<00:04, 481.55it/s]"
     ]
    },
    {
     "name": "stdout",
     "output_type": "stream",
     "text": [
      "epoch: 8000, acc: 0.228 , loss: 0.005 (data_loss: 0.005, reg_loss: 0.000), lr: 0.001, \n"
     ]
    },
    {
     "name": "stderr",
     "output_type": "stream",
     "text": [
      " 91%|█████████ | 9079/10001 [00:15<00:01, 565.42it/s]"
     ]
    },
    {
     "name": "stdout",
     "output_type": "stream",
     "text": [
      "epoch: 9000, acc: 0.237 , loss: 0.003 (data_loss: 0.003, reg_loss: 0.000), lr: 0.001, \n"
     ]
    },
    {
     "name": "stderr",
     "output_type": "stream",
     "text": [
      "100%|██████████| 10001/10001 [00:17<00:00, 581.22it/s]"
     ]
    },
    {
     "name": "stdout",
     "output_type": "stream",
     "text": [
      "epoch: 10000, acc: 0.271 , loss: 0.002 (data_loss: 0.002, reg_loss: 0.000), lr: 0.001, \n"
     ]
    },
    {
     "name": "stderr",
     "output_type": "stream",
     "text": [
      "\n"
     ]
    }
   ],
   "source": [
    "X, y = sine_data()\n",
    "\n",
    "# Layers\n",
    "dense1 = NN.Layer_Dense(1,64)\n",
    "activation1 = NN.Activation_ReLU()\n",
    "dense2 = NN.Layer_Dense(64,1)\n",
    "activation2 = Activation_Linear()\n",
    "\n",
    "# Loss\n",
    "loss_function = Loss_MeanSquaredError()\n",
    "\n",
    "# Optimizer\n",
    "optimizer = NN.Optimizer_Adam()\n",
    "\n",
    "# Regression doesn't have a percise accutacy measure, we can make a synthetic one \n",
    "# by saying how close a estimate must be to the true value \n",
    "accuracy_precision = np.std(y) / 250\n",
    "\n",
    "for epoch in tqdm(range(10001)):\n",
    "    \n",
    "    dense1.forward(X)\n",
    "    activation1.forward(dense1.output)\n",
    "    dense2.forward(activation1.output)\n",
    "    activation2.forward(dense2.output)\n",
    "    data_loss = loss_function.calculate(activation2.output, y)\n",
    "    regularization_loss = loss_function.regularization_loss(dense1) + loss_function.regularization_loss(dense2)\n",
    "    loss = data_loss + regularization_loss\n",
    "    \n",
    "    predictions = activation2.output\n",
    "    accuracy = np.mean(np.absolute(predictions - y) < accuracy_precision)\n",
    "    \n",
    "    # Backward pass\n",
    "    loss_function.backward(activation2.output, y)\n",
    "    activation2.backward(loss_function.dinputs)\n",
    "    dense2.backward(activation2.dinputs)\n",
    "    activation1.backward(dense2.dinputs)\n",
    "    dense1.backward(activation1.dinputs)\n",
    "    # Update weights and biases\n",
    "    optimizer.pre_update_params()\n",
    "    optimizer.update_params(dense1)\n",
    "    optimizer.update_params(dense2)\n",
    "    optimizer.post_update_params()\n",
    "    \n",
    "    if not epoch % 1000:\n",
    "        print(  f'epoch: {epoch}, ' +\n",
    "                f'acc: {accuracy :.3f} , ' +\n",
    "                f'loss: {loss :.3f} (' +\n",
    "                f'data_loss: {data_loss :.3f}, ' +\n",
    "                f'reg_loss: {regularization_loss :.3f}), ' +\n",
    "                f'lr: {optimizer.current_learning_rate}, ')\n"
   ]
  },
  {
   "cell_type": "code",
   "execution_count": 9,
   "metadata": {},
   "outputs": [
    {
     "data": {
      "image/png": "[encoded data removed]",
      "text/plain": [
       "<Figure size 640x480 with 1 Axes>"
      ]
     },
     "metadata": {},
     "output_type": "display_data"
    }
   ],
   "source": [
    "plt.plot(X,y)\n",
    "plt.plot(X, predictions)\n",
    "plt.show()"
   ]
  },
  {
   "cell_type": "code",
   "execution_count": 11,
   "metadata": {},
   "outputs": [
    {
     "name": "stderr",
     "output_type": "stream",
     "text": [
      "  0%|          | 23/10001 [00:00<00:43, 229.30it/s]"
     ]
    },
    {
     "name": "stdout",
     "output_type": "stream",
     "text": [
      "epoch: 0, acc: 0.002 , loss: 0.500 (data_loss: 0.500, reg_loss: 0.000), lr: 0.001, \n"
     ]
    },
    {
     "name": "stderr",
     "output_type": "stream",
     "text": [
      " 11%|█         | 1053/10001 [00:04<00:36, 245.13it/s]"
     ]
    },
    {
     "name": "stdout",
     "output_type": "stream",
     "text": [
      "epoch: 1000, acc: 0.046 , loss: 0.003 (data_loss: 0.003, reg_loss: 0.000), lr: 0.001, \n"
     ]
    },
    {
     "name": "stderr",
     "output_type": "stream",
     "text": [
      " 20%|██        | 2041/10001 [00:08<00:32, 244.68it/s]"
     ]
    },
    {
     "name": "stdout",
     "output_type": "stream",
     "text": [
      "epoch: 2000, acc: 0.800 , loss: 0.000 (data_loss: 0.000, reg_loss: 0.000), lr: 0.001, \n"
     ]
    },
    {
     "name": "stderr",
     "output_type": "stream",
     "text": [
      " 30%|███       | 3038/10001 [00:12<00:30, 226.22it/s]"
     ]
    },
    {
     "name": "stdout",
     "output_type": "stream",
     "text": [
      "epoch: 3000, acc: 0.924 , loss: 0.000 (data_loss: 0.000, reg_loss: 0.000), lr: 0.001, \n"
     ]
    },
    {
     "name": "stderr",
     "output_type": "stream",
     "text": [
      " 40%|████      | 4032/10001 [00:16<00:24, 240.58it/s]"
     ]
    },
    {
     "name": "stdout",
     "output_type": "stream",
     "text": [
      "epoch: 4000, acc: 0.980 , loss: 0.000 (data_loss: 0.000, reg_loss: 0.000), lr: 0.001, \n"
     ]
    },
    {
     "name": "stderr",
     "output_type": "stream",
     "text": [
      " 50%|█████     | 5037/10001 [00:20<00:19, 249.45it/s]"
     ]
    },
    {
     "name": "stdout",
     "output_type": "stream",
     "text": [
      "epoch: 5000, acc: 0.992 , loss: 0.000 (data_loss: 0.000, reg_loss: 0.000), lr: 0.001, \n"
     ]
    },
    {
     "name": "stderr",
     "output_type": "stream",
     "text": [
      " 60%|██████    | 6029/10001 [00:24<00:16, 244.80it/s]"
     ]
    },
    {
     "name": "stdout",
     "output_type": "stream",
     "text": [
      "epoch: 6000, acc: 0.995 , loss: 0.000 (data_loss: 0.000, reg_loss: 0.000), lr: 0.001, \n"
     ]
    },
    {
     "name": "stderr",
     "output_type": "stream",
     "text": [
      " 70%|███████   | 7032/10001 [00:29<00:12, 240.76it/s]"
     ]
    },
    {
     "name": "stdout",
     "output_type": "stream",
     "text": [
      "epoch: 7000, acc: 0.997 , loss: 0.000 (data_loss: 0.000, reg_loss: 0.000), lr: 0.001, \n"
     ]
    },
    {
     "name": "stderr",
     "output_type": "stream",
     "text": [
      " 80%|████████  | 8042/10001 [00:33<00:08, 228.79it/s]"
     ]
    },
    {
     "name": "stdout",
     "output_type": "stream",
     "text": [
      "epoch: 8000, acc: 0.997 , loss: 0.000 (data_loss: 0.000, reg_loss: 0.000), lr: 0.001, \n"
     ]
    },
    {
     "name": "stderr",
     "output_type": "stream",
     "text": [
      " 90%|█████████ | 9033/10001 [00:37<00:04, 232.27it/s]"
     ]
    },
    {
     "name": "stdout",
     "output_type": "stream",
     "text": [
      "epoch: 9000, acc: 0.999 , loss: 0.000 (data_loss: 0.000, reg_loss: 0.000), lr: 0.001, \n"
     ]
    },
    {
     "name": "stderr",
     "output_type": "stream",
     "text": [
      "100%|██████████| 10001/10001 [00:41<00:00, 238.99it/s]"
     ]
    },
    {
     "name": "stdout",
     "output_type": "stream",
     "text": [
      "epoch: 10000, acc: 1.000 , loss: 0.000 (data_loss: 0.000, reg_loss: 0.000), lr: 0.001, \n"
     ]
    },
    {
     "name": "stderr",
     "output_type": "stream",
     "text": [
      "\n"
     ]
    },
    {
     "data": {
      "text/plain": [
       "<function matplotlib.pyplot.show(close=None, block=None)>"
      ]
     },
     "execution_count": 11,
     "metadata": {},
     "output_type": "execute_result"
    },
    {
     "data": {
      "image/png": "[encoded data removed]",
      "text/plain": [
       "<Figure size 640x480 with 1 Axes>"
      ]
     },
     "metadata": {},
     "output_type": "display_data"
    }
   ],
   "source": [
    "X, y = sine_data()\n",
    "\n",
    "# Layers\n",
    "dense1 = NN.Layer_Dense(1,64)\n",
    "activation1 = NN.Activation_ReLU()\n",
    "dense2 = NN.Layer_Dense(64,64)\n",
    "activation2 = NN.Activation_ReLU()\n",
    "dense3 = NN.Layer_Dense(64,1)\n",
    "activation3 = Activation_Linear()\n",
    "\n",
    "# Loss\n",
    "loss_function = Loss_MeanSquaredError()\n",
    "\n",
    "# Optimizer\n",
    "optimizer = NN.Optimizer_Adam()\n",
    "\n",
    "# Regression doesn't have a percise accutacy measure, we can make a synthetic one \n",
    "# by saying how close a estimate must be to the true value \n",
    "accuracy_precision = np.std(y) / 250\n",
    "\n",
    "for epoch in tqdm(range(10001)):\n",
    "    \n",
    "    dense1.forward(X)\n",
    "    activation1.forward(dense1.output)\n",
    "    dense2.forward(activation1.output)\n",
    "    activation2.forward(dense2.output)\n",
    "    dense3.forward(activation2.output)\n",
    "    activation3.forward(dense3.output)\n",
    "    data_loss = loss_function.calculate(activation3.output, y)\n",
    "    regularization_loss = loss_function.regularization_loss(dense1) + loss_function.regularization_loss(dense2) + loss_function.regularization_loss(dense3)\n",
    "    loss = data_loss + regularization_loss\n",
    "    \n",
    "    predictions = activation3.output\n",
    "    accuracy = np.mean(np.absolute(predictions - y) < accuracy_precision)\n",
    "    \n",
    "    # Backward pass\n",
    "    loss_function.backward(activation3.output, y)\n",
    "    activation3.backward(loss_function.dinputs)\n",
    "    dense3.backward(activation3.dinputs)\n",
    "    activation2.backward(dense3.dinputs)\n",
    "    dense2.backward(activation2.dinputs)\n",
    "    activation1.backward(dense2.dinputs)\n",
    "    dense1.backward(activation1.dinputs)\n",
    "    \n",
    "    # Update weights and biases\n",
    "    optimizer.pre_update_params()\n",
    "    optimizer.update_params(dense1)\n",
    "    optimizer.update_params(dense2)\n",
    "    optimizer.update_params(dense3)\n",
    "    optimizer.post_update_params()\n",
    "    \n",
    "    if not epoch % 1000:\n",
    "        print(  f'epoch: {epoch}, ' +\n",
    "                f'acc: {accuracy :.3f} , ' +\n",
    "                f'loss: {loss :.3f} (' +\n",
    "                f'data_loss: {data_loss :.3f}, ' +\n",
    "                f'reg_loss: {regularization_loss :.3f}), ' +\n",
    "                f'lr: {optimizer.current_learning_rate}, ')\n",
    "\n",
    "plt.plot(X,y)\n",
    "plt.plot(X, predictions)\n",
    "plt.show"
   ]
  }
 ],
 "metadata": {
  "kernelspec": {
   "display_name": "Python 3",
   "language": "python",
   "name": "python3"
  },
  "language_info": {
   "codemirror_mode": {
    "name": "ipython",
    "version": 3
   },
   "file_extension": ".py",
   "mimetype": "text/x-python",
   "name": "python",
   "nbconvert_exporter": "python",
   "pygments_lexer": "ipython3",
   "version": "3.12.1"
  }
 },
 "nbformat": 4,
 "nbformat_minor": 2
}
