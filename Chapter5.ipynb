{
 "cells": [
  {
   "cell_type": "code",
   "execution_count": 1,
   "metadata": {},
   "outputs": [],
   "source": [
    "import numpy as np\n",
    "import matplotlib.pyplot\n",
    "import nnfs\n",
    "from nnfs.datasets import spiral_data"
   ]
  },
  {
   "cell_type": "markdown",
   "metadata": {},
   "source": [
    "# Chapter 5"
   ]
  },
  {
   "cell_type": "markdown",
   "metadata": {},
   "source": [
    "## Calculating Network Error with Loss"
   ]
  },
  {
   "cell_type": "markdown",
   "metadata": {},
   "source": [
    "### Categorical Cross-Entropy Loss"
   ]
  },
  {
   "cell_type": "code",
   "execution_count": 3,
   "metadata": {},
   "outputs": [],
   "source": [
    "#Common Loss Class\n",
    "class Loss:\n",
    "    def calculate(self, output, y):\n",
    "        #calculate sample losses\n",
    "        sample_losses = self.forward(output,y)\n",
    "        # Calculate mean loss\n",
    "        data_loss = np.mean(sample_losses)\n",
    "        \n",
    "        return data_loss\n",
    "    \n",
    "#Cross-entropy loss\n",
    "class Loss_CategoricalCrossentropy(Loss):\n",
    "        #Forward Pass\n",
    "        def forward(self, y_pred, y_true):\n",
    "            \n",
    "            #Number of samples in a batch\n",
    "            samples = len(y_pred)\n",
    "            \n",
    "            # Clip data to prevent division by 0\n",
    "            # Clip both sides to not affect mean\n",
    "            y_pred_clipped = np.clip(y_pred, 1e-7, 1- 1e-7)\n",
    "            \n",
    "            # Probabilities for target values\n",
    "            # only if categorical labels\n",
    "            if len(y_true.shape)==1:\n",
    "                correct_confidences = y_pred_clipped[\n",
    "                    range(samples),\n",
    "                    y_true\n",
    "                ]\n",
    "                \n",
    "            # Mask values - only for one-hot encoded labels\n",
    "            elif len(y_true.shape) == 2:\n",
    "                correct_confidences = np.sum(\n",
    "                    y_pred_clipped * y_true,\n",
    "                    axis = 1\n",
    "                )\n",
    "                \n",
    "            #Losses\n",
    "            negative_log_likelihoods = -np.log(correct_confidences)\n",
    "            return negative_log_likelihoods"
   ]
  },
  {
   "cell_type": "code",
   "execution_count": 2,
   "metadata": {},
   "outputs": [],
   "source": [
    "class Layer_Dense: #Completely Random Dense Layer\n",
    "    def __init__(self, n_inputs, n_neurons):\n",
    "        self.weights = 0.01 * np.random.randn(n_inputs, n_neurons) #initialize weights\n",
    "        #Note: Multiplied by 0.01 since it is often better to have start weights that minimally affect the training\n",
    "        self.biases = np.zeros((1, n_neurons)) # initialize biases to 0\n",
    "        #Note: initial bias for 0 is common to ensure neuron fires \n",
    "    \n",
    "    def forward(self, inputs):\n",
    "        self.output = np.dot(inputs, self.weights) + self.biases\n",
    "        \n",
    "#Relu Activation\n",
    "class Activation_ReLU:\n",
    "    def forward(self, inputs):\n",
    "        self.output = np.maximum(0,inputs)\n",
    "        \n",
    "\n",
    "class Activation_Softmax:\n",
    "    def forward(self, inputs):\n",
    "        #Get unnormalized probabilities\n",
    "        exp_values = np.exp(inputs - np.max(inputs, axis=1, keepdims = True))\n",
    "        # Normalize them for each sample\n",
    "        probabilites = exp_values / np.sum(exp_values, axis = 1, keepdims=True)\n",
    "        \n",
    "        self.output = probabilites"
   ]
  },
  {
   "cell_type": "code",
   "execution_count": 5,
   "metadata": {},
   "outputs": [
    {
     "name": "stdout",
     "output_type": "stream",
     "text": [
      "[[0.33333334 0.33333334 0.33333334]\n",
      " [0.3333332  0.3333332  0.33333364]\n",
      " [0.3333329  0.33333293 0.3333342 ]\n",
      " [0.3333326  0.33333263 0.33333477]\n",
      " [0.33333233 0.3333324  0.33333528]]\n",
      "loss: 1.0986104\n"
     ]
    }
   ],
   "source": [
    "\n",
    "nnfs.init()\n",
    "X, y = spiral_data(samples=100, classes=3)\n",
    "dense1 = Layer_Dense(2,3)\n",
    "activation1 = Activation_ReLU()\n",
    "dense2 = Layer_Dense(3,3)\n",
    "activation2 = Activation_Softmax()\n",
    "loss_function = Loss_CategoricalCrossentropy()\n",
    "\n",
    "dense1.forward(X)\n",
    "activation1.forward(dense1.output)\n",
    "dense2.forward(activation1.output)\n",
    "activation2.forward(dense2.output)\n",
    "loss = loss_function.calculate(activation2.output,y)\n",
    "\n",
    "print (activation2.output[: 5 ])\n",
    "print('loss:',loss)"
   ]
  },
  {
   "cell_type": "markdown",
   "metadata": {},
   "source": [
    "### Accuracy Calculation"
   ]
  },
  {
   "cell_type": "code",
   "execution_count": 7,
   "metadata": {},
   "outputs": [
    {
     "name": "stdout",
     "output_type": "stream",
     "text": [
      "accuracy: 0.34\n"
     ]
    }
   ],
   "source": [
    "predictions = np.argmax(activation2.output, axis=1)\n",
    "if len(y.shape)==2:\n",
    "    y = np.argmax(y, axis=1)\n",
    "accuracy = np.mean(predictions==y)\n",
    "\n",
    "print('accuracy:', accuracy)"
   ]
  }
 ],
 "metadata": {
  "kernelspec": {
   "display_name": "Python 3",
   "language": "python",
   "name": "python3"
  },
  "language_info": {
   "codemirror_mode": {
    "name": "ipython",
    "version": 3
   },
   "file_extension": ".py",
   "mimetype": "text/x-python",
   "name": "python",
   "nbconvert_exporter": "python",
   "pygments_lexer": "ipython3",
   "version": "3.12.1"
  }
 },
 "nbformat": 4,
 "nbformat_minor": 2
}
