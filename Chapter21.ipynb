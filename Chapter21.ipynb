{
 "cells": [
  {
   "cell_type": "code",
   "execution_count": null,
   "metadata": {},
   "outputs": [],
   "source": [
    "import numpy as np\n",
    "import matplotlib.pyplot as plt\n",
    "from matplotlib.colors import ListedColormap\n",
    "import nnfs\n",
    "from nnfs.datasets import sine_data, spiral_data\n",
    "import random\n",
    "import requests\n",
    "from NNS import NeuralNetwork as NN #import neural net code from github to reduce copy/pasting\n",
    "from NNS import load_MNIST_Data\n",
    "from tqdm import tqdm\n",
    "from sklearn.neighbors import KNeighborsClassifier\n",
    "import os"
   ]
  },
  {
   "cell_type": "markdown",
   "metadata": {},
   "source": [
    "# Saving and Loading Models and Their Paraneters\n",
    "\n",
    "## Retrieving Parameters"
   ]
  },
  {
   "cell_type": "code",
   "execution_count": null,
   "metadata": {},
   "outputs": [],
   "source": [
    "# Add this to Dense layer\n",
    "def get_parameters(self):\n",
    "    return self.weights, self.biases\n",
    "\n",
    "# Add this to Model class\n",
    "# Retrieves and returns parameters of trainable layers\n",
    "def get_parameters (self):\n",
    "    \n",
    "    # Create a list for parameters\n",
    "    parameters = []\n",
    "    \n",
    "    # Iterable trainable layers and get their parameters\n",
    "    for layer in self.trainable_layers:\n",
    "        parameters.append(layer.get_parameters())\n",
    "        \n",
    "    # Return a list\n",
    "    return parameters"
   ]
  },
  {
   "cell_type": "markdown",
   "metadata": {},
   "source": [
    "## Setting Parameters"
   ]
  },
  {
   "cell_type": "code",
   "execution_count": 1,
   "metadata": {},
   "outputs": [],
   "source": [
    "# Add this to Dense Layer\n",
    "\n",
    "# Set weights and biases in a layer instance\n",
    "def set_parameters(self, weights, biases):\n",
    "    self.weights = weights\n",
    "    self.biases = biases\n",
    "    \n",
    "    \n",
    "# Add this to the Model Class\n",
    "  \n",
    "# Updates the model with new parameters\n",
    "def set_parameters(self, parameters):\n",
    "    # Iterate over the parameters and layers\n",
    "    # and update each layers with each set of the parameters\n",
    "    for parameter_set, layer in zip(parameters, self.trainable_layers):\n",
    "        layer.set_parameters( * parameter_set)\n",
    "        \n",
    "# Update Model Finalize function to account for not needing an optimizer\n",
    "def finalize(self):\n",
    "    \"\"\"\"\"\"\n",
    "    # Update loss object with trainable layers\n",
    "    if self.loss is not None:\n",
    "        self.loss.remember_trainable_layers(self.trainable_layers)\n",
    "        \n",
    "# Update Model Set function to account for taking in paramters\n",
    "# Set loss, optimizer and accuracy\n",
    "def set(self , *, loss = None, optimizer = None, accuracy = None):\n",
    "    \n",
    "    if loss is not None:\n",
    "        self.loss = loss\n",
    "    \n",
    "    if optimizer is not None :\n",
    "        self.optimizer = optimizer\n",
    "    \n",
    "    if accuracy is not None :\n",
    "        self.accuracy = accuracy"
   ]
  },
  {
   "cell_type": "markdown",
   "metadata": {},
   "source": [
    "## Saving Parameters"
   ]
  },
  {
   "cell_type": "code",
   "execution_count": null,
   "metadata": {},
   "outputs": [],
   "source": [
    "import pickle # For serializing  nidek ivject\n",
    "\n",
    "# Add save parameters function to model\n",
    "# Saves the parameters to a file\n",
    "def save_parameters(self, path):\n",
    "    \n",
    "    # Open a file in the binary-write mode and save parameters to it\n",
    "    with open (path, 'wb') as f:\n",
    "        pickle.dump(self.get_parameters(), f)"
   ]
  },
  {
   "cell_type": "markdown",
   "metadata": {},
   "source": [
    "## Loading Parameters"
   ]
  },
  {
   "cell_type": "code",
   "execution_count": null,
   "metadata": {},
   "outputs": [],
   "source": [
    "# Loads the weights and updates a model instance with them\n",
    "def load_parameters(self, path):\n",
    "    # Open file in the binary-read mode,\n",
    "    # load weights and update trainable layers\n",
    "    with open (path, 'rb' ) as f:\n",
    "        self.set_parameters(pickle.load(f))"
   ]
  },
  {
   "cell_type": "markdown",
   "metadata": {},
   "source": [
    "## Saving the Model"
   ]
  },
  {
   "cell_type": "code",
   "execution_count": null,
   "metadata": {},
   "outputs": [],
   "source": [
    "# Saves the model\n",
    "import copy\n",
    "\n",
    "def save(self, path):\n",
    "    \n",
    "    # Make a deep copy of current model instance\n",
    "    model = copy.deepcopy(self)\n",
    "    \n",
    "    # Reset accumulated values in loss and accuracy objects\n",
    "    model.loss.new_pass()\n",
    "    model.accuracy.new_pass()\n",
    "    \n",
    "    # Remove data from the input layer and gradients from the loss object\n",
    "    model.input_layer.__dict__.pop('output' , None)\n",
    "    model.loss.__dict__.pop('dinputs', None)\n",
    "    \n",
    "    # For each layer remove inputs, output and dinputs properties\n",
    "    for layer in model.layers:\n",
    "        for property in [ 'inputs', 'output', 'dinputs', 'dweights', 'dbiases']:\n",
    "            layer.__dict__.pop( property , None )\n",
    "    \n",
    "    # Open a file in the binary-write mode and save the model\n",
    "    with open (path, 'wb' ) as f:\n",
    "        pickle.dump(model, f)"
   ]
  },
  {
   "cell_type": "markdown",
   "metadata": {},
   "source": [
    "## Loading the model"
   ]
  },
  {
   "cell_type": "code",
   "execution_count": null,
   "metadata": {},
   "outputs": [],
   "source": [
    "# Loads and returns a model\n",
    "@staticmethod #create a model object without first needing to instantiate a model object\n",
    "def load(path):\n",
    "    \n",
    "    # Open file in the binary-read mode, load a model\n",
    "    with open (path, 'rb' ) as f:\n",
    "        model = pickle.load(f)\n",
    "        \n",
    "    # Return a model\n",
    "    return model"
   ]
  }
 ],
 "metadata": {
  "kernelspec": {
   "display_name": "Python 3",
   "language": "python",
   "name": "python3"
  },
  "language_info": {
   "codemirror_mode": {
    "name": "ipython",
    "version": 3
   },
   "file_extension": ".py",
   "mimetype": "text/x-python",
   "name": "python",
   "nbconvert_exporter": "python",
   "pygments_lexer": "ipython3",
   "version": "3.12.1"
  }
 },
 "nbformat": 4,
 "nbformat_minor": 2
}
