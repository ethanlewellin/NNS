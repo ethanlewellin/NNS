{
 "cells": [
  {
   "cell_type": "code",
   "execution_count": null,
   "metadata": {},
   "outputs": [],
   "source": [
    "import numpy as np\n",
    "import matplotlib.pyplot as plt\n",
    "from matplotlib.colors import ListedColormap\n",
    "import nnfs\n",
    "from nnfs.datasets import spiral_data\n",
    "import random\n",
    "import requests\n",
    "from NNS import NeuralNetwork as NN #import neural net code from github to reduce copy/pasting\n",
    "\n",
    "from sklearn.neighbors import KNeighborsClassifier"
   ]
  },
  {
   "cell_type": "markdown",
   "metadata": {},
   "source": [
    "# Chapter 15\n",
    "## Dropout\n",
    "Helps correct co-adoption (neurons depending too much on outputs of other neurons and not learning), helps with noise, helps with overfitting"
   ]
  },
  {
   "cell_type": "markdown",
   "metadata": {},
   "source": [
    "### Forward Pass"
   ]
  },
  {
   "cell_type": "markdown",
   "metadata": {},
   "source": [
    "Example of one dopout layer"
   ]
  },
  {
   "cell_type": "code",
   "execution_count": 31,
   "metadata": {},
   "outputs": [
    {
     "data": {
      "text/plain": [
       "array([ 2.36080221,  0.        ,  0.        ,  0.95471935,  0.00474494,\n",
       "       -0.34674718, -0.26489841,  0.        ,  1.88789292, -2.15683501])"
      ]
     },
     "execution_count": 31,
     "metadata": {},
     "output_type": "execute_result"
    }
   ],
   "source": [
    "dropout_rate = 0.3 #% of nodes to dropout\n",
    "\n",
    "example_output = np.random.normal(0,1,10)\n",
    "\n",
    "example_output *= np.random.binomial(1, 1-dropout_rate, example_output.shape) #Multiply each value by 0 or 1 based off of binomial distribution with probability 1-dropout_rate\n",
    "example_output /= (1-dropout_rate) #Scale data back up to mimic the mean of the sum of all neurons before neurons were dropped\n",
    "\n",
    "example_output"
   ]
  },
  {
   "cell_type": "markdown",
   "metadata": {},
   "source": [
    "Example showing how scaling mimics the mean of the sum of all neurons"
   ]
  },
  {
   "cell_type": "code",
   "execution_count": 32,
   "metadata": {},
   "outputs": [
    {
     "name": "stdout",
     "output_type": "stream",
     "text": [
      "Sum Initial -7.4606237110977425\n",
      "Mean SumL: -7.485077497007647\n"
     ]
    }
   ],
   "source": [
    "dropout_rate = 0.3\n",
    "example_output = np.random.normal(0,1,10)\n",
    "\n",
    "print(f'Sum Initial {sum(example_output)}')\n",
    "\n",
    "sums = []\n",
    "\n",
    "for i in range(10000):\n",
    "    \n",
    "    example_output_2 = example_output * np.random.binomial(1, 1-dropout_rate, example_output.shape) / (1 - dropout_rate)\n",
    "    sums.append(sum(example_output_2))\n",
    "    \n",
    "print(f'Mean SumL: {np.mean(sums)}')"
   ]
  },
  {
   "cell_type": "markdown",
   "metadata": {},
   "source": [
    "### Backward Pass\n",
    "\n",
    "The gradient of the dropout layer is 0, if the node was dropped_out or $\\frac{1}{1-\\text{dropout rate}}$ if the node was not dropped out"
   ]
  },
  {
   "cell_type": "code",
   "execution_count": 33,
   "metadata": {},
   "outputs": [],
   "source": [
    "class Layer_Dropout:\n",
    "    \n",
    "    # Init\n",
    "    def __init__(self, rate):\n",
    "        # Store rate, we invert it for use in the binomial distribution\n",
    "        self.rate = 1 - rate\n",
    "        \n",
    "    # Forward Pass\n",
    "    def forward(self, inputs):\n",
    "        # Save input values\n",
    "        self.inputs = inputs\n",
    "        # Generate and save scaled mask\n",
    "        self.binary_mask = np.random.binomial(1, self.rate, size = inputs.shape) / self.rate\n",
    "        # Apply mask to output values\n",
    "        self.output = inputs * self.binary_mask\n",
    "        \n",
    "    # Backward Pass\n",
    "    def backward(self, dvalues):\n",
    "        # Gradient on values\n",
    "        self.dinputs = dvalues * self.binary_mask"
   ]
  },
  {
   "cell_type": "code",
   "execution_count": 34,
   "metadata": {},
   "outputs": [
    {
     "ename": "AttributeError",
     "evalue": "'Layer_Dense' object has no attribute 'bias_regularizaer_l1'",
     "output_type": "error",
     "traceback": [
      "\u001b[1;31m---------------------------------------------------------------------------\u001b[0m",
      "\u001b[1;31mAttributeError\u001b[0m                            Traceback (most recent call last)",
      "Cell \u001b[1;32mIn[34], line 19\u001b[0m\n\u001b[0;32m     15\u001b[0m dense2\u001b[38;5;241m.\u001b[39mforward(dropout1\u001b[38;5;241m.\u001b[39moutput)\n\u001b[0;32m     17\u001b[0m data_loss \u001b[38;5;241m=\u001b[39m loss_activation\u001b[38;5;241m.\u001b[39mforward(dense2\u001b[38;5;241m.\u001b[39moutput, y)\n\u001b[1;32m---> 19\u001b[0m regularization_loss \u001b[38;5;241m=\u001b[39m \u001b[43mloss_activation\u001b[49m\u001b[38;5;241;43m.\u001b[39;49m\u001b[43mloss\u001b[49m\u001b[38;5;241;43m.\u001b[39;49m\u001b[43mregularization_loss\u001b[49m\u001b[43m(\u001b[49m\u001b[43mdense1\u001b[49m\u001b[43m)\u001b[49m \u001b[38;5;241m+\u001b[39m loss_activation\u001b[38;5;241m.\u001b[39mloss\u001b[38;5;241m.\u001b[39mregularization_loss(dense2)\n\u001b[0;32m     21\u001b[0m loss \u001b[38;5;241m=\u001b[39m data_loss \u001b[38;5;241m+\u001b[39m regularization_loss\n\u001b[0;32m     23\u001b[0m predictions \u001b[38;5;241m=\u001b[39m np\u001b[38;5;241m.\u001b[39margmax(loss_activation\u001b[38;5;241m.\u001b[39moutput, axis\u001b[38;5;241m=\u001b[39m\u001b[38;5;241m1\u001b[39m)\n",
      "File \u001b[1;32m~\\AppData\\Local\\Programs\\Microsoft VS Code\\NNS\\NeuralNetwork.py:135\u001b[0m, in \u001b[0;36mLoss.regularization_loss\u001b[1;34m(self, layer)\u001b[0m\n\u001b[0;32m    132\u001b[0m     regularization_loss \u001b[38;5;241m+\u001b[39m\u001b[38;5;241m=\u001b[39m layer\u001b[38;5;241m.\u001b[39mweight_regularizer_l2 \u001b[38;5;241m*\u001b[39m np\u001b[38;5;241m.\u001b[39msum(layer\u001b[38;5;241m.\u001b[39mweights \u001b[38;5;241m*\u001b[39m layer\u001b[38;5;241m.\u001b[39mweights)\n\u001b[0;32m    134\u001b[0m \u001b[38;5;66;03m# L1 regularization - biases\u001b[39;00m\n\u001b[1;32m--> 135\u001b[0m \u001b[38;5;28;01mif\u001b[39;00m \u001b[43mlayer\u001b[49m\u001b[38;5;241;43m.\u001b[39;49m\u001b[43mbias_regularizaer_l1\u001b[49m \u001b[38;5;241m>\u001b[39m \u001b[38;5;241m0\u001b[39m:\n\u001b[0;32m    136\u001b[0m     regularization_loss \u001b[38;5;241m+\u001b[39m\u001b[38;5;241m=\u001b[39m layer\u001b[38;5;241m.\u001b[39mbias_regularizer_l1 \u001b[38;5;241m*\u001b[39m np\u001b[38;5;241m.\u001b[39msum(np\u001b[38;5;241m.\u001b[39mabs(layer\u001b[38;5;241m.\u001b[39mbiases))\n\u001b[0;32m    138\u001b[0m \u001b[38;5;66;03m# L2 regularization - biases\u001b[39;00m\n",
      "\u001b[1;31mAttributeError\u001b[0m: 'Layer_Dense' object has no attribute 'bias_regularizaer_l1'"
     ]
    }
   ],
   "source": [
    "X, y = spiral_data(samples=1000, classes=3)\n",
    "\n",
    "dense1 = NN.Layer_Dense(2, 64, weight_regularizer_l2=5e-4, bias_regularizer_l2=5e-4)\n",
    "activation1 = NN.Activation_ReLU()\n",
    "dropout1 = Layer_Dropout(0.1)\n",
    "dense2 = NN.Layer_Dense(64,3)\n",
    "loss_activation = NN.Activation_Softmax_Loss_CategoricalCrossentropy()\n",
    "optimizer = NN.Optimizer_Adam(learning_rate=0.05, decay=5e-5)\n",
    "\n",
    "for epoch in range(10001):\n",
    "    \n",
    "    dense1.forward(X)\n",
    "    activation1.forward(dense1.output)\n",
    "    dropout1.forward(activation1.output)\n",
    "    dense2.forward(dropout1.output)\n",
    "    \n",
    "    data_loss = loss_activation.forward(dense2.output, y)\n",
    "    \n",
    "    regularization_loss = loss_activation.loss.regularization_loss(dense1) + loss_activation.loss.regularization_loss(dense2)\n",
    "    \n",
    "    loss = data_loss + regularization_loss\n",
    "    \n",
    "    predictions = np.argmax(loss_activation.output, axis=1)\n",
    "    if len(y.shape) == 2:\n",
    "        y = np.argmax(y, axis=1)\n",
    "    accuracy = np.mean(predictions==y)\n",
    "    \n",
    "    if not epoch % 1000:\n",
    "        print(  f'epoch: {epoch}, ' +\n",
    "                f'acc: {accuracy :.3f} , ' +\n",
    "                f'loss: {loss :.3f} (' +\n",
    "                f'data_loss: {data_loss :.3f} , ' +\n",
    "                f'reg_loss: {regularization_loss :.3f}), ' +\n",
    "                f'lr: {optimizer.current_learning_rate}, ' +\n",
    "                f'validation, acc: {accuracy :.3f} , loss: {loss :.3f} ')\n",
    "    \n",
    "    # Backward pass\n",
    "    loss_activation.backward(loss_activation.output, y)\n",
    "    dense2.backward(loss_activation.dinputs)\n",
    "    dropout1.backward(dense2.dinputs)\n",
    "    activation1.backward(dropout1.dinputs)\n",
    "    dense1.backward(activation1.dinputs)\n",
    "    # Update weights and biases\n",
    "    optimizer.pre_update_params()\n",
    "    optimizer.update_params(dense1)\n",
    "    optimizer.update_params(dense2)\n",
    "    optimizer.post_update_params()"
   ]
  },
  {
   "cell_type": "code",
   "execution_count": null,
   "metadata": {},
   "outputs": [],
   "source": [
    "#  Create a meshgrid for the plot background\n",
    "x_min, x_max = X[:, 0].min() -0.1 , X[:, 0].max() +0.1\n",
    "y_min, y_max = X[:, 1].min() -0.1, X[:, 1].max() +0.1\n",
    "xx, yy = np.meshgrid(np.linspace(x_min, x_max, 100), np.linspace(y_min, y_max, 100))\n",
    "\n",
    "# Step 2: Predict the category for each point in the meshgrid based off of y_pred\n",
    "# Using the nearest neighbors\n",
    "knn = KNeighborsClassifier(n_neighbors=1)\n",
    "knn.fit(X, predictions)\n",
    "\n",
    "# Predict categories for the meshgrid points\n",
    "Z = knn.predict(np.c_[xx.ravel(), yy.ravel()])\n",
    "\n",
    "# Reshape the predictions back to the grid shape\n",
    "Z = Z.reshape(xx.shape)\n",
    "\n",
    "# Create the background color plot\n",
    "cmap = ListedColormap(['red', 'blue', 'yellow'])  # Assign colors for each category\n",
    "plt.contourf(xx, yy, Z, cmap=cmap, alpha=0.3)  # Fill the regions with color\n",
    "\n",
    "# Plot the scatter plot, \n",
    "plt.scatter(X[:, 0], X[:, 1], c=y, cmap=cmap, edgecolors='k', s=50, alpha = 0.1)\n",
    "\n",
    "# Add color bar to indicate values of y_pred\n",
    "plt.colorbar(label='Category')\n",
    "\n",
    "# Add labels and title\n",
    "plt.xlabel('X Value')\n",
    "plt.ylabel('Y Value')\n",
    "plt.title('True Spiral with Background Colored by y_pred')\n",
    "\n",
    "# Show the plot\n",
    "plt.show()\n"
   ]
  }
 ],
 "metadata": {
  "kernelspec": {
   "display_name": "Python 3",
   "language": "python",
   "name": "python3"
  },
  "language_info": {
   "codemirror_mode": {
    "name": "ipython",
    "version": 3
   },
   "file_extension": ".py",
   "mimetype": "text/x-python",
   "name": "python",
   "nbconvert_exporter": "python",
   "pygments_lexer": "ipython3",
   "version": "3.12.1"
  }
 },
 "nbformat": 4,
 "nbformat_minor": 2
}
