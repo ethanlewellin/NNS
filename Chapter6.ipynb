{
 "cells": [
  {
   "cell_type": "code",
   "execution_count": null,
   "metadata": {},
   "outputs": [
    {
     "ename": "ModuleNotFoundError",
     "evalue": "No module named 'ipynb.fs.full.Chapter5'",
     "output_type": "error",
     "traceback": [
      "\u001b[1;31m---------------------------------------------------------------------------\u001b[0m",
      "\u001b[1;31mModuleNotFoundError\u001b[0m                       Traceback (most recent call last)",
      "Cell \u001b[1;32mIn[7], line 7\u001b[0m\n\u001b[0;32m      4\u001b[0m \u001b[38;5;28;01mfrom\u001b[39;00m \u001b[38;5;21;01mnnfs\u001b[39;00m\u001b[38;5;21;01m.\u001b[39;00m\u001b[38;5;21;01mdatasets\u001b[39;00m \u001b[38;5;28;01mimport\u001b[39;00m spiral_data\n\u001b[0;32m      5\u001b[0m \u001b[38;5;28;01mimport\u001b[39;00m \u001b[38;5;21;01mipynb\u001b[39;00m\u001b[38;5;21;01m.\u001b[39;00m\u001b[38;5;21;01mfs\u001b[39;00m\n\u001b[1;32m----> 7\u001b[0m \u001b[38;5;28;01mfrom\u001b[39;00m \u001b[38;5;21;01m.\u001b[39;00m\u001b[38;5;21;01mfull\u001b[39;00m\u001b[38;5;21;01m.\u001b[39;00m\u001b[38;5;21;01mChapter5\u001b[39;00m \u001b[38;5;28;01mimport\u001b[39;00m \u001b[38;5;241m*\u001b[39m\n",
      "\u001b[1;31mModuleNotFoundError\u001b[0m: No module named 'ipynb.fs.full.Chapter5'"
     ]
    }
   ],
   "source": [
    "import numpy as np\n",
    "import matplotlib.pyplot\n",
    "import nnfs\n",
    "from nnfs.datasets import spiral_data\n",
    "import httpimport\n",
    "\n"
   ]
  },
  {
   "cell_type": "code",
   "execution_count": null,
   "metadata": {},
   "outputs": [
    {
     "name": "stdout",
     "output_type": "stream",
     "text": [
      "['C:\\\\Users\\\\ethan\\\\AppData\\\\Local\\\\Programs\\\\Microsoft VS Code\\\\chrome_100_percent.pak', 'C:\\\\Users\\\\ethan\\\\AppData\\\\Local\\\\Programs\\\\Microsoft VS Code\\\\chrome_200_percent.pak', 'C:\\\\Users\\\\ethan\\\\AppData\\\\Local\\\\Programs\\\\Microsoft VS Code\\\\Code.exe', 'C:\\\\Users\\\\ethan\\\\AppData\\\\Local\\\\Programs\\\\Microsoft VS Code\\\\Code.VisualElementsManifest.xml', 'C:\\\\Users\\\\ethan\\\\AppData\\\\Local\\\\Programs\\\\Microsoft VS Code\\\\d3dcompiler_47.dll', 'C:\\\\Users\\\\ethan\\\\AppData\\\\Local\\\\Programs\\\\Microsoft VS Code\\\\ffmpeg.dll', 'C:\\\\Users\\\\ethan\\\\AppData\\\\Local\\\\Programs\\\\Microsoft VS Code\\\\icudtl.dat', 'C:\\\\Users\\\\ethan\\\\AppData\\\\Local\\\\Programs\\\\Microsoft VS Code\\\\libEGL.dll', 'C:\\\\Users\\\\ethan\\\\AppData\\\\Local\\\\Programs\\\\Microsoft VS Code\\\\libGLESv2.dll', 'C:\\\\Users\\\\ethan\\\\AppData\\\\Local\\\\Programs\\\\Microsoft VS Code\\\\LICENSES.chromium.html', 'C:\\\\Users\\\\ethan\\\\AppData\\\\Local\\\\Programs\\\\Microsoft VS Code\\\\resources.pak', 'C:\\\\Users\\\\ethan\\\\AppData\\\\Local\\\\Programs\\\\Microsoft VS Code\\\\snapshot_blob.bin', 'C:\\\\Users\\\\ethan\\\\AppData\\\\Local\\\\Programs\\\\Microsoft VS Code\\\\unins000.dat', 'C:\\\\Users\\\\ethan\\\\AppData\\\\Local\\\\Programs\\\\Microsoft VS Code\\\\unins000.exe', 'C:\\\\Users\\\\ethan\\\\AppData\\\\Local\\\\Programs\\\\Microsoft VS Code\\\\unins000.msg', 'C:\\\\Users\\\\ethan\\\\AppData\\\\Local\\\\Programs\\\\Microsoft VS Code\\\\v8_context_snapshot.bin', 'C:\\\\Users\\\\ethan\\\\AppData\\\\Local\\\\Programs\\\\Microsoft VS Code\\\\vk_swiftshader.dll', 'C:\\\\Users\\\\ethan\\\\AppData\\\\Local\\\\Programs\\\\Microsoft VS Code\\\\vk_swiftshader_icd.json', 'C:\\\\Users\\\\ethan\\\\AppData\\\\Local\\\\Programs\\\\Microsoft VS Code\\\\vulkan-1.dll']\n"
     ]
    }
   ],
   "source": []
  }
 ],
 "metadata": {
  "kernelspec": {
   "display_name": "Python 3",
   "language": "python",
   "name": "python3"
  },
  "language_info": {
   "codemirror_mode": {
    "name": "ipython",
    "version": 3
   },
   "file_extension": ".py",
   "mimetype": "text/x-python",
   "name": "python",
   "nbconvert_exporter": "python",
   "pygments_lexer": "ipython3",
   "version": "3.12.1"
  }
 },
 "nbformat": 4,
 "nbformat_minor": 2
}
