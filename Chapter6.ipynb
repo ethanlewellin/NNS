{
 "cells": [
  {
   "cell_type": "code",
   "execution_count": 28,
   "metadata": {},
   "outputs": [],
   "source": [
    "import numpy as np\n",
    "import matplotlib.pyplot\n",
    "import nnfs\n",
    "from nnfs.datasets import spiral_data\n",
    "import httpimport\n"
   ]
  },
  {
   "cell_type": "code",
   "execution_count": 29,
   "metadata": {},
   "outputs": [
    {
     "ename": "NameError",
     "evalue": "name 'np' is not defined",
     "output_type": "error",
     "traceback": [
      "\u001b[1;31m---------------------------------------------------------------------------\u001b[0m",
      "\u001b[1;31mNameError\u001b[0m                                 Traceback (most recent call last)",
      "Cell \u001b[1;32mIn[29], line 13\u001b[0m\n\u001b[0;32m     10\u001b[0m \u001b[38;5;28;01mfrom\u001b[39;00m \u001b[38;5;21;01mlayers\u001b[39;00m \u001b[38;5;28;01mimport\u001b[39;00m Layer_Dense, Activation_ReLU, Activation_Softmax, Loss_CategoricalCrossentropy\n\u001b[0;32m     12\u001b[0m \u001b[38;5;66;03m# Use the imported classes in your code\u001b[39;00m\n\u001b[1;32m---> 13\u001b[0m dense_layer \u001b[38;5;241m=\u001b[39m \u001b[43mLayer_Dense\u001b[49m\u001b[43m(\u001b[49m\u001b[38;5;241;43m3\u001b[39;49m\u001b[43m,\u001b[49m\u001b[43m \u001b[49m\u001b[38;5;241;43m5\u001b[39;49m\u001b[43m)\u001b[49m\n",
      "File \u001b[1;32m~\\AppData\\Local\\Programs\\Microsoft VS Code\\layers.py:7\u001b[0m, in \u001b[0;36mLayer_Dense.__init__\u001b[1;34m(self, n_inputs, n_neurons)\u001b[0m\n\u001b[0;32m      6\u001b[0m \u001b[38;5;28;01mdef\u001b[39;00m \u001b[38;5;21m__init__\u001b[39m(\u001b[38;5;28mself\u001b[39m, n_inputs, n_neurons):\n\u001b[1;32m----> 7\u001b[0m     \u001b[38;5;28mself\u001b[39m\u001b[38;5;241m.\u001b[39mweights \u001b[38;5;241m=\u001b[39m \u001b[38;5;241m0.01\u001b[39m \u001b[38;5;241m*\u001b[39m \u001b[43mnp\u001b[49m\u001b[38;5;241m.\u001b[39mrandom\u001b[38;5;241m.\u001b[39mrandn(n_inputs, n_neurons) \u001b[38;5;66;03m#initialize weights\u001b[39;00m\n\u001b[0;32m      8\u001b[0m     \u001b[38;5;66;03m#Note: Multiplied by 0.01 since it is often better to have start weights that minimally affect the training\u001b[39;00m\n\u001b[0;32m      9\u001b[0m     \u001b[38;5;28mself\u001b[39m\u001b[38;5;241m.\u001b[39mbiases \u001b[38;5;241m=\u001b[39m np\u001b[38;5;241m.\u001b[39mzeros((\u001b[38;5;241m1\u001b[39m, n_neurons))\n",
      "\u001b[1;31mNameError\u001b[0m: name 'np' is not defined"
     ]
    }
   ],
   "source": [
    "import urllib.request\n",
    "\n",
    "# Define the raw URL of the GitHub file\n",
    "url = 'https://raw.githubusercontent.com/ethanlewellin/NNS/dd8f682399cdad363c653c16942a0999ef1c68da/NeuralNetworks.py'\n",
    "\n",
    "# Download the file content and save it as a temporary .py file\n",
    "urllib.request.urlretrieve(url, 'layers.py')\n",
    "\n",
    "# Now import the file\n",
    "from layers import Layer_Dense, Activation_ReLU, Activation_Softmax, Loss_CategoricalCrossentropy\n",
    "\n",
    "# Use the imported classes in your code\n",
    "dense_layer = Layer_Dense(3, 5)\n"
   ]
  }
 ],
 "metadata": {
  "kernelspec": {
   "display_name": "Python 3",
   "language": "python",
   "name": "python3"
  },
  "language_info": {
   "codemirror_mode": {
    "name": "ipython",
    "version": 3
   },
   "file_extension": ".py",
   "mimetype": "text/x-python",
   "name": "python",
   "nbconvert_exporter": "python",
   "pygments_lexer": "ipython3",
   "version": "3.12.1"
  }
 },
 "nbformat": 4,
 "nbformat_minor": 2
}
