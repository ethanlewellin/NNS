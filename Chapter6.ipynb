{
 "cells": [
  {
   "cell_type": "code",
   "execution_count": null,
   "metadata": {},
   "outputs": [],
   "source": [
    "import numpy as np\n",
    "import matplotlib.pyplot\n",
    "import nnfs\n",
    "from nnfs.datasets import spiral_data\n",
    "from NNS import NeuralNetwork as NN #import neural net code from github to reduce copy/pasting"
   ]
  },
  {
   "cell_type": "markdown",
   "metadata": {},
   "source": [
    "# Chapter 6"
   ]
  },
  {
   "cell_type": "markdown",
   "metadata": {},
   "source": [
    "## Introducing Optimizatin"
   ]
  },
  {
   "cell_type": "code",
   "execution_count": 47,
   "metadata": {},
   "outputs": [
    {
     "name": "stdout",
     "output_type": "stream",
     "text": [
      "New set of weights found, iteration: 0 loss: 1.0988274764971966 acc: 0.3333333333333333\n",
      "New set of weights found, iteration: 5 loss: 1.0987420910605337 acc: 0.3333333333333333\n",
      "New set of weights found, iteration: 10 loss: 1.0985185755152982 acc: 0.35333333333333333\n",
      "New set of weights found, iteration: 15 loss: 1.0979449373523218 acc: 0.3333333333333333\n",
      "New set of weights found, iteration: 18 loss: 1.097833074595664 acc: 0.3233333333333333\n",
      "New set of weights found, iteration: 19 loss: 1.0978315695920557 acc: 0.37\n",
      "New set of weights found, iteration: 20 loss: 1.0977614666578301 acc: 0.3433333333333333\n",
      "New set of weights found, iteration: 21 loss: 1.0966916792215533 acc: 0.37\n",
      "New set of weights found, iteration: 23 loss: 1.096564537654463 acc: 0.36333333333333334\n",
      "New set of weights found, iteration: 25 loss: 1.0951914215006944 acc: 0.37\n",
      "New set of weights found, iteration: 30 loss: 1.09485684153773 acc: 0.3433333333333333\n",
      "New set of weights found, iteration: 32 loss: 1.0944779025088103 acc: 0.3233333333333333\n",
      "New set of weights found, iteration: 41 loss: 1.0939761284380136 acc: 0.33666666666666667\n",
      "New set of weights found, iteration: 43 loss: 1.0917361490410467 acc: 0.36\n",
      "New set of weights found, iteration: 44 loss: 1.0909446033434238 acc: 0.3466666666666667\n",
      "New set of weights found, iteration: 45 loss: 1.090837680615413 acc: 0.42333333333333334\n",
      "New set of weights found, iteration: 47 loss: 1.0898515234971966 acc: 0.32666666666666666\n",
      "New set of weights found, iteration: 49 loss: 1.088682083485062 acc: 0.37\n",
      "New set of weights found, iteration: 53 loss: 1.0859923095440982 acc: 0.3566666666666667\n",
      "New set of weights found, iteration: 55 loss: 1.0851344263808078 acc: 0.38666666666666666\n",
      "New set of weights found, iteration: 59 loss: 1.0841482045139068 acc: 0.3933333333333333\n",
      "New set of weights found, iteration: 60 loss: 1.0840033406048168 acc: 0.36666666666666664\n",
      "New set of weights found, iteration: 66 loss: 1.0805398614533768 acc: 0.42\n",
      "New set of weights found, iteration: 70 loss: 1.0788047957596247 acc: 0.41333333333333333\n",
      "New set of weights found, iteration: 85 loss: 1.0772513061228008 acc: 0.41\n",
      "New set of weights found, iteration: 90 loss: 1.076939110105375 acc: 0.42\n",
      "New set of weights found, iteration: 93 loss: 1.0741437544818457 acc: 0.4166666666666667\n",
      "New set of weights found, iteration: 101 loss: 1.0725729857676762 acc: 0.42333333333333334\n",
      "New set of weights found, iteration: 102 loss: 1.0711343132078164 acc: 0.41333333333333333\n",
      "New set of weights found, iteration: 104 loss: 1.0703629619523078 acc: 0.43333333333333335\n",
      "New set of weights found, iteration: 113 loss: 1.06997924478934 acc: 0.4666666666666667\n",
      "New set of weights found, iteration: 118 loss: 1.0690338366448975 acc: 0.42\n",
      "New set of weights found, iteration: 121 loss: 1.0680139870512442 acc: 0.44333333333333336\n",
      "New set of weights found, iteration: 130 loss: 1.0661127981983736 acc: 0.47\n",
      "New set of weights found, iteration: 152 loss: 1.06603851592516 acc: 0.44\n",
      "New set of weights found, iteration: 154 loss: 1.0647826176612012 acc: 0.47333333333333333\n",
      "New set of weights found, iteration: 204 loss: 1.064697204976881 acc: 0.43\n",
      "New set of weights found, iteration: 323 loss: 1.0645364770767098 acc: 0.42333333333333334\n",
      "New set of weights found, iteration: 348 loss: 1.064216862858379 acc: 0.43333333333333335\n",
      "New set of weights found, iteration: 362 loss: 1.0638560088410332 acc: 0.4533333333333333\n",
      "New set of weights found, iteration: 391 loss: 1.0638038954451714 acc: 0.44666666666666666\n",
      "New set of weights found, iteration: 409 loss: 1.0633980221614165 acc: 0.45\n",
      "New set of weights found, iteration: 459 loss: 1.0633680946466146 acc: 0.4533333333333333\n",
      "New set of weights found, iteration: 470 loss: 1.063003798112389 acc: 0.4533333333333333\n",
      "New set of weights found, iteration: 584 loss: 1.0627088512107166 acc: 0.4533333333333333\n",
      "New set of weights found, iteration: 775 loss: 1.0625298076971001 acc: 0.4533333333333333\n",
      "New set of weights found, iteration: 787 loss: 1.0623416816374804 acc: 0.4533333333333333\n",
      "New set of weights found, iteration: 826 loss: 1.062214185651892 acc: 0.4666666666666667\n",
      "New set of weights found, iteration: 858 loss: 1.0618668259757533 acc: 0.4866666666666667\n",
      "New set of weights found, iteration: 2010 loss: 1.0617760886201635 acc: 0.45\n",
      "New set of weights found, iteration: 2052 loss: 1.0617410610303188 acc: 0.46\n",
      "New set of weights found, iteration: 2979 loss: 1.0616940093243596 acc: 0.4666666666666667\n",
      "New set of weights found, iteration: 4653 loss: 1.0615928927577913 acc: 0.47\n",
      "New set of weights found, iteration: 8430 loss: 1.0615892607028665 acc: 0.46\n",
      "New set of weights found, iteration: 8444 loss: 1.0615819613971458 acc: 0.45666666666666667\n",
      "New set of weights found, iteration: 9002 loss: 1.0615019874849685 acc: 0.4633333333333333\n",
      "New set of weights found, iteration: 9947 loss: 1.0613867673610862 acc: 0.4766666666666667\n"
     ]
    }
   ],
   "source": [
    "X,y = spiral_data(samples=100, classes=3)\n",
    "\n",
    "dense1 = NN.Layer_Dense(2,3)\n",
    "activation1 = NN.Activation_ReLU()\n",
    "dense2 = NN.Layer_Dense(3,3)\n",
    "activation2 = NN.Activation_Softmax()\n",
    "\n",
    "loss_function = NN.Loss_CategoricalCrossentropy()\n",
    "\n",
    "#Starter Variables\n",
    "lowest_loss = 999999 # some initial value\n",
    "best_dense1_weights = dense1.weights.copy()\n",
    "best_dense1_biases = dense1.biases.copy()\n",
    "best_dense2_weights = dense2.weights.copy()\n",
    "best_dense2_biases = dense2.biases.copy()\n",
    "\n",
    "for iteration in range(10000):\n",
    "    #Update weights with some small random values\n",
    "    dense1.weights += 0.05 * np.random.randn( 2 , 3 )\n",
    "    dense1.biases += 0.05 * np.random.randn( 1 , 3 )\n",
    "    dense2.weights += 0.05 * np.random.randn( 3 , 3 )\n",
    "    dense2.biases += 0.05 * np.random.randn( 1 , 3 )\n",
    "    \n",
    "    # Perform a forward pass of our training data through this layer\n",
    "    dense1.forward(X)\n",
    "    activation1.forward(dense1.output)\n",
    "    dense2.forward(activation1.output)\n",
    "    activation2.forward(dense2.output)\n",
    "    loss = loss_function.calculate(activation2.output, y)\n",
    "    \n",
    "    # Calculate accuracy from output of activation2 and targets\n",
    "    # calculate values along first axis\n",
    "    predictions = np.argmax(activation2.output, axis = 1 )\n",
    "    accuracy = np.mean(predictions == y)\n",
    "    \n",
    "    # If loss is smaller - print and save weights and biases aside\n",
    "    if loss < lowest_loss:\n",
    "        print( 'New set of weights found, iteration:' , iteration,\n",
    "        'loss:' , loss, 'acc:' , accuracy)\n",
    "        best_dense1_weights = dense1.weights.copy()\n",
    "        best_dense1_biases = dense1.biases.copy()\n",
    "        best_dense2_weights = dense2.weights.copy()\n",
    "        best_dense2_biases = dense2.biases.copy()\n",
    "        lowest_loss = loss\n",
    "    # Revert weights and biases\n",
    "    else :\n",
    "        dense1.weights = best_dense1_weights.copy()\n",
    "        dense1.biases = best_dense1_biases.copy()\n",
    "        dense2.weights = best_dense2_weights.copy()\n",
    "        dense2.biases = best_dense2_biases.copy()"
   ]
  }
 ],
 "metadata": {
  "kernelspec": {
   "display_name": "Python 3",
   "language": "python",
   "name": "python3"
  },
  "language_info": {
   "codemirror_mode": {
    "name": "ipython",
    "version": 3
   },
   "file_extension": ".py",
   "mimetype": "text/x-python",
   "name": "python",
   "nbconvert_exporter": "python",
   "pygments_lexer": "ipython3",
   "version": "3.12.1"
  }
 },
 "nbformat": 4,
 "nbformat_minor": 2
}
